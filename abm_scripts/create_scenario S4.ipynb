{
 "cells": [
  {
   "cell_type": "code",
   "execution_count": 1,
   "metadata": {},
   "outputs": [],
   "source": [
    "import numpy as np\n",
    "import pandas as pd\n",
    "import matplotlib.pyplot as plt\n",
    "import seaborn as sns\n",
    "import os"
   ]
  },
  {
   "cell_type": "code",
   "execution_count": 2,
   "metadata": {},
   "outputs": [],
   "source": [
    "# File containing the activities as extracted from MATSIM\n",
    "_EXTRACTED_ACTIVITIES_PATH_ = \"../data/abm/vaud/extracted/vaud_activities.csv.gz\"\n",
    "_PERIOD_ACTIVITIES_REP_ = \"../data/abm/vaud/prepared/scenarios/scenario_4\"\n",
    "_POLICIES_PATH_ = '../data/abm/vaud/prepared/scenarios/scenario_4/scenario_4.xlsx'\n",
    "_PERIOD_PATH_ = '../data/abm/vaud/prepared/scenarios/scenario_4/vaud_period_activities_restricted.csv.gz'\n",
    "_PERIOD_ACTIVITIES_ = '../data/abm/vaud/prepared/scenarios/scenario_4/vaud_period_activities'\n",
    "\n",
    "# Files to where the ID to index translations should be saved\n",
    "_AGENTS_ID_TRANSLATIONS_FILE_ = \"../data/abm/vaud/prepared/vaud_agents_id_translations.csv.gz\"\n",
    "_FACILITIES_ID_TRANSLATIONS_FILE_ = \"../data/abm/vaud/prepared/vaud_facilities_id_translations.csv.gz\"\n"
   ]
  },
  {
   "cell_type": "code",
   "execution_count": 3,
   "metadata": {},
   "outputs": [],
   "source": [
    "def get_age_class(age):\n",
    "    # Returns the age class of the given age\n",
    "    if age < 80 : \n",
    "        min_range =  age // 10  * 10\n",
    "        max_range = age // 10  * 10 + 9\n",
    "        return str(min_range) + ' - ' + str(max_range)\n",
    "    if age > 79:\n",
    "        return '80+'  \n",
    "    \n",
    "\n",
    "def get_house_id(df):\n",
    "#Returns a dictionnary with the house number for each individual \n",
    "\n",
    "    df1 = df[df.type =='home']\n",
    "    df1 = df1.drop_duplicates(subset=[\"id\"])\n",
    "    df1 = df1.set_index('id')\n",
    "\n",
    "    return df1[['facility']].to_dict()"
   ]
  },
  {
   "attachments": {},
   "cell_type": "markdown",
   "metadata": {},
   "source": [
    "## Open Activity Data"
   ]
  },
  {
   "cell_type": "code",
   "execution_count": 4,
   "metadata": {},
   "outputs": [
    {
     "name": "stdout",
     "output_type": "stream",
     "text": [
      "<class 'pandas.core.frame.DataFrame'>\n",
      "RangeIndex: 21355565 entries, 0 to 21355564\n",
      "Data columns (total 6 columns):\n",
      " #   Column     Dtype \n",
      "---  ------     ----- \n",
      " 0   id         int64 \n",
      " 1   type       object\n",
      " 2   facility   object\n",
      " 3   age        int64 \n",
      " 4   period     object\n",
      " 5   age_class  object\n",
      "dtypes: int64(2), object(4)\n",
      "memory usage: 977.6+ MB\n"
     ]
    }
   ],
   "source": [
    "# Loads the activities per period as a single dataframe (might be very large !)\n",
    "period_activities = pd.read_csv('../data/abm/vaud/prepared/vaud_period_activities.csv.gz')\n",
    "#period_activities = pd.read_excel('../data/abm/vaud/20230318_Activities_test_v001.xlsx')\n",
    "\n",
    "period_activities['age_class'] = period_activities.age.apply(get_age_class)\n",
    "\n",
    "period_activities.info()"
   ]
  },
  {
   "attachments": {},
   "cell_type": "markdown",
   "metadata": {},
   "source": [
    "We'll prcocess the periods successively: for each period, we'll isolate the activities that occurred during that time; then translate the facility and agent; and finally save the result to a specific file.  "
   ]
  },
  {
   "attachments": {},
   "cell_type": "markdown",
   "metadata": {},
   "source": [
    "## Open policies"
   ]
  },
  {
   "cell_type": "code",
   "execution_count": 5,
   "metadata": {},
   "outputs": [
    {
     "name": "stdout",
     "output_type": "stream",
     "text": [
      "['0 - 9' '10 - 19' '20 - 29' '30 - 39' '40 - 49' '50 - 59' '60 - 69'\n",
      " '70 - 79' '80+']\n"
     ]
    }
   ],
   "source": [
    "policies = pd.read_excel(_POLICIES_PATH_)\n",
    "\n",
    "facility_types = policies.Type.unique() #[ 'shop', 'leisure']\n",
    "age_groups = policies.Age_class.unique()  #[85,70]\n",
    "\n",
    "print(age_groups)\n",
    "\n"
   ]
  },
  {
   "cell_type": "code",
   "execution_count": 6,
   "metadata": {},
   "outputs": [],
   "source": [
    "def apply_restricting_policies(activities, policies):\n",
    "\n",
    "    \"\"\"   \n",
    "    This function applies the policies on the activities dataframe\n",
    "    \n",
    "    Parameters: \n",
    "    activities (pandas.DataFrame): DataFrame containing activity information\n",
    "    policies (pandas.DataFrame): DataFrame containing policy information\n",
    "\n",
    "    output : the activities dataframe with the policies applied\n",
    "\n",
    "    \"\"\"\n",
    "    #Change the dividing times as parameter of the simulation (t1, t2)\n",
    "    #Do the reduction on the whole 30 days dataframe  \n",
    "\n",
    "    facility_types = policies.Type.unique() #example: [ 'shop', 'leisure']\n",
    "    age_groups = policies.Age_class.unique() #example: [85,70]\n",
    "    temp_activities = activities.copy() #copy of the activities dataframe\n",
    "    house_id = get_house_id(activities) #dictionnary with the house number for each individual\n",
    "\n",
    "\n",
    "    for age in age_groups:\n",
    "        for facility in facility_types:\n",
    "            try:\n",
    "                cond = (policies.Age_class == age) & (policies.Type == facility)\n",
    "                theta = policies[cond]['Reduction'].iloc[ 0] #takes theta for the policy period\n",
    "                if theta ==0: #if theta is 0, no change of activities\n",
    "                    break\n",
    "\n",
    "                # finds the activities of the age class and facility and apply reduction on a random subset of activities\n",
    "                cond_activities = (temp_activities.type==facility) & (temp_activities.age_class==age)\n",
    "                df_update = temp_activities.sample(frac=theta, replace=False, random_state=2).loc[cond_activities] # samples a random subset of activities with probability theta\n",
    "                \n",
    "\n",
    "                # finds the activities of the age class and facility and apply reduction on a random subset of activities\n",
    "                cond_activities = (temp_activities.type==facility) & (temp_activities.age_class==age)\n",
    "                df_update = temp_activities.sample(frac=theta, replace=False, random_state=2).loc[cond_activities] # samples a random subset of activities with probability theta\n",
    "                df_update.type = 'home' # replace the type of activity by 'home'\n",
    "                df_update.facility = df_update.id.map(house_id['facility']) # replace the facility number by the house number\n",
    "\n",
    "                temp_activities.update(df_update) #updates the dataframe\n",
    "                update_list = df_update.index.tolist() #list of the updated activities\n",
    "\n",
    "            except IndexError:\n",
    "              print(f\"No policy found for facility {facility}, age {age}\")\n",
    "\n",
    "    return temp_activities\n",
    "\n",
    "\n",
    "new_activities = apply_restricting_policies(period_activities, policies)\n",
    "new_activities.head(20)\n",
    "\n",
    "new_activities.to_csv(_PERIOD_PATH_, index=False)\n"
   ]
  },
  {
   "cell_type": "code",
   "execution_count": 4,
   "metadata": {},
   "outputs": [],
   "source": [
    "def get_age_class(age):\n",
    "    \"\"\"\n",
    "    Returns the age class of the given age\n",
    "    Parameters\n",
    "    ----------\n",
    "    age : int\n",
    "        Age of the individual\n",
    "    Returns\n",
    "    -------\n",
    "    str\n",
    "        Age class of the individual\n",
    "    \"\"\"\n",
    "\n",
    "    if age < 80 : \n",
    "        min_range =  age // 10  * 10\n",
    "        max_range = age // 10  * 10 + 9\n",
    "        return str(min_range) + ' - ' + str(max_range)\n",
    "    if age > 79:\n",
    "        return '80+'  \n",
    "\n",
    "def get_segmentation_data(path, output_file):\n",
    "    \"\"\"\n",
    "    Load and preprocess segmentation data into age classes and save it to a file\n",
    "    Parameters\n",
    "    ----------\n",
    "    path : str\n",
    "        Path to the segmentation data\n",
    "    output_file : str\n",
    "        Path to the output file\n",
    "    Returns\n",
    "    -------\n",
    "    None\n",
    "    \"\"\"\n",
    "    # Load data\n",
    "    df = pd.read_csv(path)\n",
    "    df['age_class'] = df.age.apply(get_age_class)\n",
    "\n",
    "    for age_class in df['age_class'].unique():\n",
    "        df[df['age_class']==age_class].to_csv(output_file + '_' + age_class + '.csv.gz', index=False)\n",
    "    #rename_files(output_file)\n",
    "    return None\n"
   ]
  },
  {
   "cell_type": "code",
   "execution_count": 5,
   "metadata": {},
   "outputs": [],
   "source": [
    "get_segmentation_data(_PERIOD_PATH_, _PERIOD_ACTIVITIES_ )"
   ]
  },
  {
   "cell_type": "code",
   "execution_count": 6,
   "metadata": {},
   "outputs": [],
   "source": [
    "def rename_files(folder):\n",
    "    for filename in os.listdir(folder):\n",
    "        name = filename.replace('.0', '')\n",
    "        os.rename(folder + '/' + filename, folder + '/' + name)\n",
    "\n",
    "rename_files(_PERIOD_ACTIVITIES_REP_)"
   ]
  },
  {
   "cell_type": "code",
   "execution_count": null,
   "metadata": {},
   "outputs": [],
   "source": []
  }
 ],
 "metadata": {
  "kernelspec": {
   "display_name": "abm",
   "language": "python",
   "name": "python3"
  },
  "language_info": {
   "codemirror_mode": {
    "name": "ipython",
    "version": 3
   },
   "file_extension": ".py",
   "mimetype": "text/x-python",
   "name": "python",
   "nbconvert_exporter": "python",
   "pygments_lexer": "ipython3",
   "version": "3.10.9"
  },
  "orig_nbformat": 4
 },
 "nbformat": 4,
 "nbformat_minor": 2
}
