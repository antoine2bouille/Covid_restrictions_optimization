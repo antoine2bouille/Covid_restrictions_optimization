{
 "cells": [
  {
   "cell_type": "code",
   "execution_count": 1,
   "metadata": {},
   "outputs": [],
   "source": [
    "import numpy as np\n",
    "import pandas as pd\n",
    "import matplotlib.pyplot as plt\n",
    "import seaborn as sns"
   ]
  },
  {
   "attachments": {},
   "cell_type": "markdown",
   "metadata": {},
   "source": [
    "### From a scenario, decompose the .csv file into a .csv file for each segment"
   ]
  },
  {
   "cell_type": "code",
   "execution_count": 2,
   "metadata": {},
   "outputs": [],
   "source": [
    "def get_age_class(age):\n",
    "    \"\"\"\n",
    "    Returns the age class of the given age\n",
    "    Parameters\n",
    "    ----------\n",
    "    age : int\n",
    "        Age of the individual\n",
    "    Returns\n",
    "    -------\n",
    "    str\n",
    "        Age class of the individual\n",
    "    \"\"\"\n",
    "\n",
    "    if age < 80 : \n",
    "        min_range =  age // 10  * 10\n",
    "        max_range = age // 10  * 10 + 9\n",
    "        return str(min_range) + ' - ' + str(max_range)\n",
    "    if age > 79:\n",
    "        return '80+'  \n",
    "\n",
    "def get_segmentation_data(path, output_file):\n",
    "    \"\"\"\n",
    "    Load and preprocess segmentation data into age classes and save it to a file\n",
    "    Parameters\n",
    "    ----------\n",
    "    path : str\n",
    "        Path to the segmentation data\n",
    "    output_file : str\n",
    "        Path to the output file\n",
    "    Returns\n",
    "    -------\n",
    "    None\n",
    "    \"\"\"\n",
    "    # Load data\n",
    "    df = pd.read_csv(path)\n",
    "    df['age_class'] = df.age.apply(get_age_class)\n",
    "\n",
    "    for age_class in df['age_class'].unique():\n",
    "        df[df['age_class']==age_class].to_csv(output_file + '_' + age_class + '.csv.gz', index=False)\n",
    "\n",
    "    return None"
   ]
  },
  {
   "cell_type": "code",
   "execution_count": 11,
   "metadata": {},
   "outputs": [
    {
     "name": "stdout",
     "output_type": "stream",
     "text": [
      "               id  type     facility  age               period age_class\n",
      "0         1069770  home   home480932   85  1900-01-01 00:00:00       80+\n",
      "1         1069770  home   home480932   85  1900-01-01 01:00:00       80+\n",
      "2         1069770  home   home480932   85  1900-01-01 02:00:00       80+\n",
      "3         1069770  home   home480932   85  1900-01-01 03:00:00       80+\n",
      "4         1069770  home   home480932   85  1900-01-01 04:00:00       80+\n",
      "...           ...   ...          ...  ...                  ...       ...\n",
      "21355560  7134593  home  home3128753   14  1900-01-01 19:00:00   10 - 19\n",
      "21355561  7134593  home  home3128753   14  1900-01-01 20:00:00   10 - 19\n",
      "21355562  7134593  home  home3128753   14  1900-01-01 21:00:00   10 - 19\n",
      "21355563  7134593  home  home3128753   14  1900-01-01 22:00:00   10 - 19\n",
      "21355564  7134593  home  home3128753   14  1900-01-01 23:00:00   10 - 19\n",
      "\n",
      "[21355565 rows x 6 columns]\n"
     ]
    }
   ],
   "source": [
    "get_segmentation_data('../data/abm/vaud/prepared/vaud_period_activities.csv.gz', '../data/abm/vaud/prepared/scenarios/scenario_1/vaud_period_activities' )"
   ]
  }
 ],
 "metadata": {
  "kernelspec": {
   "display_name": "abm",
   "language": "python",
   "name": "python3"
  },
  "language_info": {
   "codemirror_mode": {
    "name": "ipython",
    "version": 3
   },
   "file_extension": ".py",
   "mimetype": "text/x-python",
   "name": "python",
   "nbconvert_exporter": "python",
   "pygments_lexer": "ipython3",
   "version": "3.10.9"
  },
  "orig_nbformat": 4
 },
 "nbformat": 4,
 "nbformat_minor": 2
}
