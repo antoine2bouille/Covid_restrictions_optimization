{
 "cells": [
  {
   "attachments": {},
   "cell_type": "markdown",
   "id": "5f12b86e-f529-46b1-99d8-82d59f543419",
   "metadata": {},
   "source": [
    "# Agent-based model Quickstart guide"
   ]
  },
  {
   "attachments": {},
   "cell_type": "markdown",
   "id": "247cad39",
   "metadata": {},
   "source": [
    "# Basic ABM model"
   ]
  },
  {
   "attachments": {},
   "cell_type": "markdown",
   "id": "a2071319-f238-49bb-9c3d-0a14e39a0ba4",
   "metadata": {},
   "source": [
    "## Imports"
   ]
  },
  {
   "cell_type": "code",
   "execution_count": 1,
   "id": "c8957e36-ffe5-4568-8bf7-515a9555a577",
   "metadata": {},
   "outputs": [],
   "source": [
    "import numpy as np\n",
    "import pandas as pd\n",
    "import matplotlib.pyplot as plt\n",
    "import os\n",
    "import seaborn as sns\n",
    "from abm.model import *\n",
    "from abm.plotting import *\n",
    "from abm.parallel import *\n",
    "from abm.population import *\n",
    "from abm.characteristics import load_population_dataset\n",
    "from optimization.operators import *\n"
   ]
  },
  {
   "attachments": {},
   "cell_type": "markdown",
   "id": "0c0126fc-38eb-4ac5-a962-c1432d76a202",
   "metadata": {},
   "source": [
    "## Running the simulation"
   ]
  },
  {
   "attachments": {},
   "cell_type": "markdown",
   "id": "4fca4c18-6734-46c4-bd1d-72c8f5f50374",
   "metadata": {},
   "source": [
    "### Running a basic simulation"
   ]
  },
  {
   "attachments": {},
   "cell_type": "markdown",
   "id": "367e10f8-ffe9-4091-86d2-eed58a09e8c6",
   "metadata": {},
   "source": [
    "We must first set up the model's parameters, using a dictionary:"
   ]
  },
  {
   "cell_type": "code",
   "execution_count": 2,
   "id": "805fcfc2",
   "metadata": {},
   "outputs": [],
   "source": [
    "def prepare_calendars(sol2):\n",
    "    \"\"\"Prepares the calendars for the simulation and stores it in \"data/abm/vaud/prepared/temp_period_activities\"\n",
    "    sol2 : list of scenarios numbers for each segment\n",
    "\n",
    "    :return: Number of periods for each activity\n",
    "    \"\"\"\n",
    "    #Merge csv files for each segmantation according to the solution\n",
    "    segments = ['0 - 9', '10 - 19', '20 - 29', '30 - 39', '40 - 49', '50 - 59', '60 - 69', '70 - 79', '80+']\n",
    "    for i in range(len(sol2)):\n",
    "        folder = \"data/abm/vaud/prepared/scenarios/scenario_\" + str(sol2[i]) + \"/\"\n",
    "        file = folder + \"vaud_period_activities_\" + segments[i] + \".csv.gz\"\n",
    "        temp = pd.read_csv(file)\n",
    "        if i == 0:\n",
    "            df = temp\n",
    "        else: \n",
    "            df = pd.concat([df, temp])\n",
    "    \n",
    "    unique_periods = df['period'].unique()\n",
    "    activities = df['type'].unique()\n",
    "    # Count the number of periods for each activity\n",
    "    count_activities = dict()\n",
    "    for activity in activities:\n",
    "        count_activities[activity] = len(df[df['type'] == activity])\n",
    "\n",
    "    #Applies preprocessing and saves the restriction schecule\n",
    "    _AGENTS_ID_TRANSLATIONS_FILE_ = \"data/abm/vaud/prepared/vaud_agents_id_translations.csv.gz\"\n",
    "    _FACILITIES_ID_TRANSLATIONS_FILE_ = \"data/abm/vaud/prepared/vaud_facilities_id_translations.csv.gz\"\n",
    "    _PERIOD_ACTIVITIES_REP_ = \"data/abm/vaud/prepared/temp_period_activities/\"\n",
    "    \n",
    "    agents_translations = pd.read_csv(_AGENTS_ID_TRANSLATIONS_FILE_, index_col=0)\n",
    "    agents_translations['agent_index']=agents_translations['agent_index'].astype(int)\n",
    "    facilities_translations = pd.read_csv(_FACILITIES_ID_TRANSLATIONS_FILE_, index_col=0)\n",
    "    facilities_translations['facility_index']=facilities_translations['facility_index'].astype(int)\n",
    "    \n",
    "\n",
    "    for period_index, period in enumerate(unique_periods):\n",
    "        #print(\"Processing period \", period)\n",
    "        # Isolate the activities that occurred during that period\n",
    "        sub_activ = df[df['period'] == period]\n",
    "        # Translate the agent ids to agent index\n",
    "        sub_activ = sub_activ.merge(agents_translations, left_on=\"id\", right_index=True)\n",
    "        # Translate the facility names to indexes\n",
    "        sub_activ = sub_activ.merge(facilities_translations, left_on=\"facility\", right_index=True)\n",
    "        # Only keep the relevant info\n",
    "        sub_activ = sub_activ.drop(['age', 'period', 'id', 'facility'], axis=1)\n",
    "        # Save the sub dataset\n",
    "        sub_activ.to_csv(os.path.join(_PERIOD_ACTIVITIES_REP_, f\"{str(period_index)}.csv.gz\"),\n",
    "                        index=False)\n",
    "        \n",
    "    return count_activities"
   ]
  },
  {
   "cell_type": "code",
   "execution_count": 3,
   "id": "e4baf9ef-9b77-4a73-a944-c418284d1718",
   "metadata": {},
   "outputs": [],
   "source": [
    "params = {\n",
    "        'inf_params': {'age': 0.000},\n",
    "        'test_params': {'age': 0.000},\n",
    "        'inf_fraction_param': 30,\n",
    "        'inf_lvl_error_term': -15,\n",
    "        'inf_proba_sigmoid_slope': 1.0,\n",
    "        'test_inf_lvl_param': 0.1,\n",
    "        'test_error_term': -15,\n",
    "        'test_proba_sigmoid_slope': 10.0,\n",
    "        'recovery_mean_time': 8.0,\n",
    "        'recovery_std_time': 2.0,\n",
    "        'Restriction_begin': 0,\n",
    "        'Restriction_end': 60}\n",
    "\n",
    "\n",
    "costs = dict({'home': 0, 'shop': 2, 'leisure': 1.5, 'work': 17.2, 'other': 2, 'education': 17.2})\n",
    "normal_gdp = 62000000\n",
    "N = 814000\n",
    "lengthsimulation = 60\n",
    "initial_infections = (np.arange(8)+1) * 100\n",
    "n_scenarios = 4\n",
    "average_remaining_working_years = 20 # Number of years to work\n",
    "proportion_work_infection = 0.4 # Proportion of the cost of infection that is due to the loss of productivity\n",
    "proportion_remoteless = 0.50\n",
    "reduction_efficiency_remote_work = 0.2\n",
    "cost_healthcare = 4700 # Cost of healthcare per day\n",
    "severeforms = 0.1 #Pourcentage of severe forms in the positive tests"
   ]
  },
  {
   "cell_type": "code",
   "execution_count": 4,
   "id": "541ecf7b",
   "metadata": {},
   "outputs": [
    {
     "name": "stdout",
     "output_type": "stream",
     "text": [
      "Loading activity data...\n",
      "Processing period 0\n",
      "Processing period 1\n",
      "Processing period 2\n",
      "Processing period 3\n",
      "Processing period 4\n",
      "Processing period 5\n",
      "Processing period 6\n",
      "Processing period 7\n",
      "Processing period 8\n",
      "Processing period 9\n",
      "Processing period 10\n",
      "Processing period 11\n",
      "Processing period 12\n",
      "Processing period 13\n",
      "Processing period 14\n",
      "Processing period 15\n",
      "Processing period 16\n",
      "Processing period 17\n",
      "Processing period 18\n",
      "Processing period 19\n",
      "Processing period 20\n",
      "Processing period 21\n",
      "Processing period 22\n",
      "Processing period 23\n",
      "Loading reduction schedules ...\n",
      "Loading activity data...\n",
      "Processing period 0\n",
      "Processing period 1\n",
      "Processing period 2\n",
      "Processing period 3\n",
      "Processing period 4\n",
      "Processing period 5\n",
      "Processing period 6\n",
      "Processing period 7\n",
      "Processing period 8\n",
      "Processing period 9\n",
      "Processing period 10\n",
      "Processing period 11\n",
      "Processing period 12\n",
      "Processing period 13\n",
      "Processing period 14\n",
      "Processing period 15\n",
      "Processing period 16\n",
      "Processing period 17\n",
      "Processing period 18\n",
      "Processing period 19\n",
      "Processing period 20\n",
      "Processing period 21\n",
      "Processing period 22\n",
      "Processing period 23\n",
      "Day  0\n",
      "Day  1\n",
      "Day  2\n"
     ]
    },
    {
     "name": "stderr",
     "output_type": "stream",
     "text": [
      "/Users/antoinedebouille/Documents/EPFL/MASTER/MA2/Semester project/ABM model/Covid_restriction_Github_version/abm/model.py:250: RuntimeWarning: invalid value encountered in divide\n",
      "  infected_fractions = infected_visitors / visitors\n"
     ]
    },
    {
     "name": "stdout",
     "output_type": "stream",
     "text": [
      "Day  3\n",
      "Day  4\n",
      "Day  5\n",
      "Day  6\n",
      "Day  7\n",
      "Day  8\n",
      "Day  9\n",
      "Day  10\n",
      "Day  11\n",
      "Day  12\n",
      "Day  13\n",
      "Day  14\n",
      "Day  15\n",
      "Day  16\n",
      "Day  17\n",
      "Day  18\n",
      "Day  19\n",
      "Day  20\n",
      "Day  21\n",
      "Day  22\n",
      "Day  23\n",
      "Day  24\n",
      "Day  25\n",
      "Day  26\n",
      "Day  27\n",
      "Day  28\n",
      "Day  29\n",
      "Day  30\n",
      "Day  31\n",
      "Day  32\n",
      "Day  33\n",
      "Day  34\n",
      "Day  35\n",
      "Day  36\n",
      "Day  37\n",
      "Day  38\n",
      "Day  39\n",
      "Day  40\n",
      "Day  41\n",
      "Day  42\n",
      "Day  43\n",
      "Day  44\n",
      "Day  45\n",
      "Day  46\n",
      "Day  47\n",
      "Day  48\n",
      "Day  49\n",
      "Day  50\n",
      "Day  51\n",
      "Day  52\n",
      "Day  53\n",
      "Day  54\n",
      "Day  55\n",
      "Day  56\n",
      "Day  57\n",
      "Day  58\n",
      "Day  59\n",
      "Day  60\n",
      "Simulation ended. \n",
      "EVALUATE\n",
      "[308239.8, 66268160.67000001]\n"
     ]
    }
   ],
   "source": [
    "#solc = [0, 60, 1, 1, 1, 4, 1, 3, 1, 1, 1] #solution 1\n",
    "#solc = [1, 59, 1, 1, 1, 1, 1, 1, 1, 4, 1] #solution 2\n",
    "#solc =[2, 59, 1, 1, 1, 1, 4, 1, 1, 1, 1] #solution 3\n",
    "solc =[2, 59, 1, 1, 1, 1, 4, 1, 1, 2, 1] #solution 4\n",
    "\n",
    "sol2 = list(solc[2:])\n",
    "\n",
    "\n",
    "\n",
    "#Call preprocessing function to obtain the restriction schedule according to the solution and count the number of period per activity\n",
    "restriction_count_activities = prepare_calendars(sol2)\n",
    "#Initializes the simulation and forces initial infections\n",
    "abm = ABM(params)\n",
    "abm.force_simulation_start(initial_infections)\n",
    "# Runs the simulation with restriction period\n",
    "abm.set_param('Restriction_begin', solc[0])\n",
    "abm.set_param('Restriction_end', solc[1] )\n",
    "abm.force_simulation_start(initial_infections)\n",
    "abm.run_simulation(lengthsimulation, verbose=True)\n",
    "\n",
    "_PERIOD_ACTIVITIES_ = 'data/abm/vaud/prepared/vaud_period_activities.csv.gz'    \n",
    "df = pd.read_csv(_PERIOD_ACTIVITIES_, index_col=0)\n",
    "activities = df['type'].unique()    \n",
    "count_activities = dict()\n",
    "for activity in activities:\n",
    "    count_activities[activity] = len(df[df['type'] == activity])\n",
    "\n",
    "        \n",
    "# Compute I and D\n",
    "results = abm.results.get_daily_results()\n",
    "I = results[\"daily summed new infections\"] # daily new infections\n",
    "D = results[\"daily summed new infections\"] # We should replace by number of death \n",
    "totalI= I.sum()\n",
    "totalI.round(0)\n",
    "totalD= D.sum()\n",
    "totalD.round(2)\n",
    "\n",
    "# Duration of the policy\n",
    "Deltat = solc[1]-solc[0] \n",
    "# Number of confined activities\n",
    "count_confined_activities = dict()\n",
    "C_policies = 0\n",
    "for activity in count_activities.keys():\n",
    "    if activity in restriction_count_activities.keys():\n",
    "        count_confined_activities[activity] = Deltat*(count_activities[activity] - restriction_count_activities[activity])\n",
    "        C_policies += count_confined_activities[activity]*costs[activity]\n",
    "    else:\n",
    "        pass\n",
    "C_policies = proportion_remoteless * reduction_efficiency_remote_work * C_policies\n",
    "\n",
    "#Loss\n",
    "sanitary_cost = (severeforms * totalD + totalI).round(2)\n",
    "C_death = severeforms * totalD * normal_gdp / N *average_remaining_working_years \n",
    "C_infection = proportion_work_infection * normal_gdp / N / 365 * totalI * 5 # 5 is the average number of days of work lost per infection - should adapt with the model\n",
    "C_helthcare = cost_healthcare * severeforms * totalI \n",
    "economic_cost = C_policies#(C_death + C_infection + C_helthcare + C_policies).round(2)/1000\n",
    "\n",
    "objectives = [sanitary_cost, economic_cost]\n",
    "\n",
    "print(\"EVALUATE\")\n",
    "print(objectives)"
   ]
  },
  {
   "cell_type": "code",
   "execution_count": 5,
   "id": "bc73da30-1678-446d-adf5-52a141638fd7",
   "metadata": {},
   "outputs": [
    {
     "data": {
      "text/html": [
       "<div>\n",
       "<style scoped>\n",
       "    .dataframe tbody tr th:only-of-type {\n",
       "        vertical-align: middle;\n",
       "    }\n",
       "\n",
       "    .dataframe tbody tr th {\n",
       "        vertical-align: top;\n",
       "    }\n",
       "\n",
       "    .dataframe thead th {\n",
       "        text-align: right;\n",
       "    }\n",
       "</style>\n",
       "<table border=\"1\" class=\"dataframe\">\n",
       "  <thead>\n",
       "    <tr style=\"text-align: right;\">\n",
       "      <th></th>\n",
       "      <th>daily summed new infections</th>\n",
       "      <th>daily summed infected agents</th>\n",
       "      <th>daily summed recovered agents</th>\n",
       "      <th>daily summed tests</th>\n",
       "      <th>daily summed positive tests</th>\n",
       "      <th>daily avg new infections</th>\n",
       "      <th>daily avg infected agents</th>\n",
       "      <th>daily avg recovered agents</th>\n",
       "      <th>daily avg tests</th>\n",
       "      <th>daily avg positive tests</th>\n",
       "      <th>day</th>\n",
       "    </tr>\n",
       "    <tr>\n",
       "      <th>day</th>\n",
       "      <th></th>\n",
       "      <th></th>\n",
       "      <th></th>\n",
       "      <th></th>\n",
       "      <th></th>\n",
       "      <th></th>\n",
       "      <th></th>\n",
       "      <th></th>\n",
       "      <th></th>\n",
       "      <th></th>\n",
       "      <th></th>\n",
       "    </tr>\n",
       "  </thead>\n",
       "  <tbody>\n",
       "    <tr>\n",
       "      <th>0</th>\n",
       "      <td>102</td>\n",
       "      <td>1272</td>\n",
       "      <td>0</td>\n",
       "      <td>0</td>\n",
       "      <td>0</td>\n",
       "      <td>4.250000</td>\n",
       "      <td>53.000000</td>\n",
       "      <td>0.000000</td>\n",
       "      <td>0.0</td>\n",
       "      <td>0.0</td>\n",
       "      <td>0</td>\n",
       "    </tr>\n",
       "    <tr>\n",
       "      <th>1</th>\n",
       "      <td>197</td>\n",
       "      <td>4899</td>\n",
       "      <td>0</td>\n",
       "      <td>0</td>\n",
       "      <td>0</td>\n",
       "      <td>8.208333</td>\n",
       "      <td>204.125000</td>\n",
       "      <td>0.000000</td>\n",
       "      <td>0.0</td>\n",
       "      <td>0.0</td>\n",
       "      <td>1</td>\n",
       "    </tr>\n",
       "    <tr>\n",
       "      <th>2</th>\n",
       "      <td>318</td>\n",
       "      <td>11149</td>\n",
       "      <td>0</td>\n",
       "      <td>0</td>\n",
       "      <td>0</td>\n",
       "      <td>13.250000</td>\n",
       "      <td>464.541667</td>\n",
       "      <td>0.000000</td>\n",
       "      <td>0.0</td>\n",
       "      <td>0.0</td>\n",
       "      <td>2</td>\n",
       "    </tr>\n",
       "    <tr>\n",
       "      <th>3</th>\n",
       "      <td>398</td>\n",
       "      <td>19741</td>\n",
       "      <td>0</td>\n",
       "      <td>0</td>\n",
       "      <td>0</td>\n",
       "      <td>16.583333</td>\n",
       "      <td>822.541667</td>\n",
       "      <td>0.000000</td>\n",
       "      <td>0.0</td>\n",
       "      <td>0.0</td>\n",
       "      <td>3</td>\n",
       "    </tr>\n",
       "    <tr>\n",
       "      <th>4</th>\n",
       "      <td>503</td>\n",
       "      <td>30693</td>\n",
       "      <td>21</td>\n",
       "      <td>0</td>\n",
       "      <td>0</td>\n",
       "      <td>20.958333</td>\n",
       "      <td>1278.875000</td>\n",
       "      <td>0.875000</td>\n",
       "      <td>0.0</td>\n",
       "      <td>0.0</td>\n",
       "      <td>4</td>\n",
       "    </tr>\n",
       "    <tr>\n",
       "      <th>...</th>\n",
       "      <td>...</td>\n",
       "      <td>...</td>\n",
       "      <td>...</td>\n",
       "      <td>...</td>\n",
       "      <td>...</td>\n",
       "      <td>...</td>\n",
       "      <td>...</td>\n",
       "      <td>...</td>\n",
       "      <td>...</td>\n",
       "      <td>...</td>\n",
       "      <td>...</td>\n",
       "    </tr>\n",
       "    <tr>\n",
       "      <th>64</th>\n",
       "      <td>3</td>\n",
       "      <td>3117</td>\n",
       "      <td>6721256</td>\n",
       "      <td>0</td>\n",
       "      <td>0</td>\n",
       "      <td>0.125000</td>\n",
       "      <td>129.875000</td>\n",
       "      <td>280052.333333</td>\n",
       "      <td>0.0</td>\n",
       "      <td>0.0</td>\n",
       "      <td>64</td>\n",
       "    </tr>\n",
       "    <tr>\n",
       "      <th>65</th>\n",
       "      <td>4</td>\n",
       "      <td>2380</td>\n",
       "      <td>6722043</td>\n",
       "      <td>0</td>\n",
       "      <td>0</td>\n",
       "      <td>0.166667</td>\n",
       "      <td>99.166667</td>\n",
       "      <td>280085.125000</td>\n",
       "      <td>0.0</td>\n",
       "      <td>0.0</td>\n",
       "      <td>65</td>\n",
       "    </tr>\n",
       "    <tr>\n",
       "      <th>66</th>\n",
       "      <td>13</td>\n",
       "      <td>1976</td>\n",
       "      <td>6722681</td>\n",
       "      <td>0</td>\n",
       "      <td>0</td>\n",
       "      <td>0.541667</td>\n",
       "      <td>82.333333</td>\n",
       "      <td>280111.708333</td>\n",
       "      <td>0.0</td>\n",
       "      <td>0.0</td>\n",
       "      <td>66</td>\n",
       "    </tr>\n",
       "    <tr>\n",
       "      <th>67</th>\n",
       "      <td>10</td>\n",
       "      <td>1945</td>\n",
       "      <td>6723043</td>\n",
       "      <td>0</td>\n",
       "      <td>0</td>\n",
       "      <td>0.416667</td>\n",
       "      <td>81.041667</td>\n",
       "      <td>280126.791667</td>\n",
       "      <td>0.0</td>\n",
       "      <td>0.0</td>\n",
       "      <td>67</td>\n",
       "    </tr>\n",
       "    <tr>\n",
       "      <th>68</th>\n",
       "      <td>8</td>\n",
       "      <td>1790</td>\n",
       "      <td>6723357</td>\n",
       "      <td>0</td>\n",
       "      <td>0</td>\n",
       "      <td>0.333333</td>\n",
       "      <td>74.583333</td>\n",
       "      <td>280139.875000</td>\n",
       "      <td>0.0</td>\n",
       "      <td>0.0</td>\n",
       "      <td>68</td>\n",
       "    </tr>\n",
       "  </tbody>\n",
       "</table>\n",
       "<p>69 rows × 11 columns</p>\n",
       "</div>"
      ],
      "text/plain": [
       "     daily summed new infections  daily summed infected agents  \\\n",
       "day                                                              \n",
       "0                            102                          1272   \n",
       "1                            197                          4899   \n",
       "2                            318                         11149   \n",
       "3                            398                         19741   \n",
       "4                            503                         30693   \n",
       "..                           ...                           ...   \n",
       "64                             3                          3117   \n",
       "65                             4                          2380   \n",
       "66                            13                          1976   \n",
       "67                            10                          1945   \n",
       "68                             8                          1790   \n",
       "\n",
       "     daily summed recovered agents  daily summed tests  \\\n",
       "day                                                      \n",
       "0                                0                   0   \n",
       "1                                0                   0   \n",
       "2                                0                   0   \n",
       "3                                0                   0   \n",
       "4                               21                   0   \n",
       "..                             ...                 ...   \n",
       "64                         6721256                   0   \n",
       "65                         6722043                   0   \n",
       "66                         6722681                   0   \n",
       "67                         6723043                   0   \n",
       "68                         6723357                   0   \n",
       "\n",
       "     daily summed positive tests  daily avg new infections  \\\n",
       "day                                                          \n",
       "0                              0                  4.250000   \n",
       "1                              0                  8.208333   \n",
       "2                              0                 13.250000   \n",
       "3                              0                 16.583333   \n",
       "4                              0                 20.958333   \n",
       "..                           ...                       ...   \n",
       "64                             0                  0.125000   \n",
       "65                             0                  0.166667   \n",
       "66                             0                  0.541667   \n",
       "67                             0                  0.416667   \n",
       "68                             0                  0.333333   \n",
       "\n",
       "     daily avg infected agents  daily avg recovered agents  daily avg tests  \\\n",
       "day                                                                           \n",
       "0                    53.000000                    0.000000              0.0   \n",
       "1                   204.125000                    0.000000              0.0   \n",
       "2                   464.541667                    0.000000              0.0   \n",
       "3                   822.541667                    0.000000              0.0   \n",
       "4                  1278.875000                    0.875000              0.0   \n",
       "..                         ...                         ...              ...   \n",
       "64                  129.875000               280052.333333              0.0   \n",
       "65                   99.166667               280085.125000              0.0   \n",
       "66                   82.333333               280111.708333              0.0   \n",
       "67                   81.041667               280126.791667              0.0   \n",
       "68                   74.583333               280139.875000              0.0   \n",
       "\n",
       "     daily avg positive tests  day  \n",
       "day                                 \n",
       "0                         0.0    0  \n",
       "1                         0.0    1  \n",
       "2                         0.0    2  \n",
       "3                         0.0    3  \n",
       "4                         0.0    4  \n",
       "..                        ...  ...  \n",
       "64                        0.0   64  \n",
       "65                        0.0   65  \n",
       "66                        0.0   66  \n",
       "67                        0.0   67  \n",
       "68                        0.0   68  \n",
       "\n",
       "[69 rows x 11 columns]"
      ]
     },
     "execution_count": 5,
     "metadata": {},
     "output_type": "execute_result"
    }
   ],
   "source": [
    "results = abm.results.get_daily_results()\n",
    "results.head(115)"
   ]
  },
  {
   "cell_type": "code",
   "execution_count": 6,
   "id": "7735fa3a-19e1-4ae9-8424-700139fdbf9e",
   "metadata": {},
   "outputs": [
    {
     "data": {
      "text/html": [
       "<div>\n",
       "<style scoped>\n",
       "    .dataframe tbody tr th:only-of-type {\n",
       "        vertical-align: middle;\n",
       "    }\n",
       "\n",
       "    .dataframe tbody tr th {\n",
       "        vertical-align: top;\n",
       "    }\n",
       "\n",
       "    .dataframe thead th {\n",
       "        text-align: right;\n",
       "    }\n",
       "</style>\n",
       "<table border=\"1\" class=\"dataframe\">\n",
       "  <thead>\n",
       "    <tr style=\"text-align: right;\">\n",
       "      <th></th>\n",
       "      <th>new infections</th>\n",
       "      <th>infected agents</th>\n",
       "      <th>recovered agents</th>\n",
       "      <th>tests</th>\n",
       "      <th>positive tests</th>\n",
       "      <th>period</th>\n",
       "      <th>day</th>\n",
       "    </tr>\n",
       "  </thead>\n",
       "  <tbody>\n",
       "    <tr>\n",
       "      <th>0</th>\n",
       "      <td>6</td>\n",
       "      <td>6</td>\n",
       "      <td>0</td>\n",
       "      <td>0</td>\n",
       "      <td>0</td>\n",
       "      <td>0</td>\n",
       "      <td>0</td>\n",
       "    </tr>\n",
       "    <tr>\n",
       "      <th>1</th>\n",
       "      <td>2</td>\n",
       "      <td>8</td>\n",
       "      <td>0</td>\n",
       "      <td>0</td>\n",
       "      <td>0</td>\n",
       "      <td>1</td>\n",
       "      <td>0</td>\n",
       "    </tr>\n",
       "    <tr>\n",
       "      <th>2</th>\n",
       "      <td>4</td>\n",
       "      <td>12</td>\n",
       "      <td>0</td>\n",
       "      <td>0</td>\n",
       "      <td>0</td>\n",
       "      <td>2</td>\n",
       "      <td>0</td>\n",
       "    </tr>\n",
       "    <tr>\n",
       "      <th>3</th>\n",
       "      <td>6</td>\n",
       "      <td>18</td>\n",
       "      <td>0</td>\n",
       "      <td>0</td>\n",
       "      <td>0</td>\n",
       "      <td>3</td>\n",
       "      <td>0</td>\n",
       "    </tr>\n",
       "    <tr>\n",
       "      <th>4</th>\n",
       "      <td>3</td>\n",
       "      <td>21</td>\n",
       "      <td>0</td>\n",
       "      <td>0</td>\n",
       "      <td>0</td>\n",
       "      <td>4</td>\n",
       "      <td>0</td>\n",
       "    </tr>\n",
       "  </tbody>\n",
       "</table>\n",
       "</div>"
      ],
      "text/plain": [
       "   new infections  infected agents  recovered agents  tests  positive tests  \\\n",
       "0               6                6                 0      0               0   \n",
       "1               2                8                 0      0               0   \n",
       "2               4               12                 0      0               0   \n",
       "3               6               18                 0      0               0   \n",
       "4               3               21                 0      0               0   \n",
       "\n",
       "   period  day  \n",
       "0       0    0  \n",
       "1       1    0  \n",
       "2       2    0  \n",
       "3       3    0  \n",
       "4       4    0  "
      ]
     },
     "execution_count": 6,
     "metadata": {},
     "output_type": "execute_result"
    }
   ],
   "source": [
    "abm.results.get_per_period_results().head()"
   ]
  },
  {
   "cell_type": "code",
   "execution_count": 7,
   "id": "04826b1a-dcae-47d3-8082-ba310e3b847e",
   "metadata": {},
   "outputs": [
    {
     "data": {
      "application/vnd.plotly.v1+json": {
       "config": {
        "plotlyServerURL": "https://plot.ly"
       },
       "data": [
        {
         "mode": "lines+markers",
         "name": "daily summed new infections",
         "type": "scatter",
         "x": [
          0,
          1,
          2,
          3,
          4,
          5,
          6,
          7,
          8,
          9,
          10,
          11,
          12,
          13,
          14,
          15,
          16,
          17,
          18,
          19,
          20,
          21,
          22,
          23,
          24,
          25,
          26,
          27,
          28,
          29,
          30,
          31,
          32,
          33,
          34,
          35,
          36,
          37,
          38,
          39,
          40,
          41,
          42,
          43,
          44,
          45,
          46,
          47,
          48,
          49,
          50,
          51,
          52,
          53,
          54,
          55,
          56,
          57,
          58,
          59,
          60
         ],
         "y": [
          102,
          197,
          318,
          398,
          503,
          598,
          697,
          836,
          5171,
          3371,
          5291,
          5550,
          5626,
          6234,
          6575,
          6985,
          7718,
          8651,
          10006,
          10096,
          10874,
          11635,
          12276,
          13086,
          13521,
          12999,
          12687,
          12581,
          12175,
          11879,
          11348,
          10181,
          8884,
          8081,
          6919,
          5446,
          4307,
          3579,
          2924,
          2330,
          1823,
          1470,
          1035,
          887,
          534,
          347,
          316,
          211,
          184,
          178,
          130,
          87,
          57,
          59,
          59,
          31,
          26,
          35,
          30,
          8,
          13,
          10,
          5,
          10,
          3,
          4,
          13,
          10,
          8
         ]
        },
        {
         "mode": "lines+markers",
         "name": "daily summed positive tests",
         "type": "scatter",
         "x": [
          0,
          1,
          2,
          3,
          4,
          5,
          6,
          7,
          8,
          9,
          10,
          11,
          12,
          13,
          14,
          15,
          16,
          17,
          18,
          19,
          20,
          21,
          22,
          23,
          24,
          25,
          26,
          27,
          28,
          29,
          30,
          31,
          32,
          33,
          34,
          35,
          36,
          37,
          38,
          39,
          40,
          41,
          42,
          43,
          44,
          45,
          46,
          47,
          48,
          49,
          50,
          51,
          52,
          53,
          54,
          55,
          56,
          57,
          58,
          59,
          60
         ],
         "y": [
          0,
          0,
          0,
          0,
          0,
          0,
          0,
          0,
          0,
          0,
          0,
          0,
          0,
          0,
          0,
          0,
          0,
          0,
          0,
          0,
          0,
          0,
          0,
          0,
          0,
          0,
          0,
          0,
          0,
          0,
          0,
          0,
          0,
          0,
          0,
          0,
          0,
          0,
          0,
          0,
          0,
          0,
          0,
          0,
          0,
          0,
          0,
          0,
          0,
          0,
          0,
          0,
          0,
          0,
          0,
          0,
          0,
          0,
          0,
          0,
          0,
          0,
          0,
          0,
          0,
          0,
          0,
          0,
          0
         ]
        }
       ],
       "layout": {
        "template": {
         "data": {
          "bar": [
           {
            "error_x": {
             "color": "#2a3f5f"
            },
            "error_y": {
             "color": "#2a3f5f"
            },
            "marker": {
             "line": {
              "color": "#E5ECF6",
              "width": 0.5
             },
             "pattern": {
              "fillmode": "overlay",
              "size": 10,
              "solidity": 0.2
             }
            },
            "type": "bar"
           }
          ],
          "barpolar": [
           {
            "marker": {
             "line": {
              "color": "#E5ECF6",
              "width": 0.5
             },
             "pattern": {
              "fillmode": "overlay",
              "size": 10,
              "solidity": 0.2
             }
            },
            "type": "barpolar"
           }
          ],
          "carpet": [
           {
            "aaxis": {
             "endlinecolor": "#2a3f5f",
             "gridcolor": "white",
             "linecolor": "white",
             "minorgridcolor": "white",
             "startlinecolor": "#2a3f5f"
            },
            "baxis": {
             "endlinecolor": "#2a3f5f",
             "gridcolor": "white",
             "linecolor": "white",
             "minorgridcolor": "white",
             "startlinecolor": "#2a3f5f"
            },
            "type": "carpet"
           }
          ],
          "choropleth": [
           {
            "colorbar": {
             "outlinewidth": 0,
             "ticks": ""
            },
            "type": "choropleth"
           }
          ],
          "contour": [
           {
            "colorbar": {
             "outlinewidth": 0,
             "ticks": ""
            },
            "colorscale": [
             [
              0,
              "#0d0887"
             ],
             [
              0.1111111111111111,
              "#46039f"
             ],
             [
              0.2222222222222222,
              "#7201a8"
             ],
             [
              0.3333333333333333,
              "#9c179e"
             ],
             [
              0.4444444444444444,
              "#bd3786"
             ],
             [
              0.5555555555555556,
              "#d8576b"
             ],
             [
              0.6666666666666666,
              "#ed7953"
             ],
             [
              0.7777777777777778,
              "#fb9f3a"
             ],
             [
              0.8888888888888888,
              "#fdca26"
             ],
             [
              1,
              "#f0f921"
             ]
            ],
            "type": "contour"
           }
          ],
          "contourcarpet": [
           {
            "colorbar": {
             "outlinewidth": 0,
             "ticks": ""
            },
            "type": "contourcarpet"
           }
          ],
          "heatmap": [
           {
            "colorbar": {
             "outlinewidth": 0,
             "ticks": ""
            },
            "colorscale": [
             [
              0,
              "#0d0887"
             ],
             [
              0.1111111111111111,
              "#46039f"
             ],
             [
              0.2222222222222222,
              "#7201a8"
             ],
             [
              0.3333333333333333,
              "#9c179e"
             ],
             [
              0.4444444444444444,
              "#bd3786"
             ],
             [
              0.5555555555555556,
              "#d8576b"
             ],
             [
              0.6666666666666666,
              "#ed7953"
             ],
             [
              0.7777777777777778,
              "#fb9f3a"
             ],
             [
              0.8888888888888888,
              "#fdca26"
             ],
             [
              1,
              "#f0f921"
             ]
            ],
            "type": "heatmap"
           }
          ],
          "heatmapgl": [
           {
            "colorbar": {
             "outlinewidth": 0,
             "ticks": ""
            },
            "colorscale": [
             [
              0,
              "#0d0887"
             ],
             [
              0.1111111111111111,
              "#46039f"
             ],
             [
              0.2222222222222222,
              "#7201a8"
             ],
             [
              0.3333333333333333,
              "#9c179e"
             ],
             [
              0.4444444444444444,
              "#bd3786"
             ],
             [
              0.5555555555555556,
              "#d8576b"
             ],
             [
              0.6666666666666666,
              "#ed7953"
             ],
             [
              0.7777777777777778,
              "#fb9f3a"
             ],
             [
              0.8888888888888888,
              "#fdca26"
             ],
             [
              1,
              "#f0f921"
             ]
            ],
            "type": "heatmapgl"
           }
          ],
          "histogram": [
           {
            "marker": {
             "pattern": {
              "fillmode": "overlay",
              "size": 10,
              "solidity": 0.2
             }
            },
            "type": "histogram"
           }
          ],
          "histogram2d": [
           {
            "colorbar": {
             "outlinewidth": 0,
             "ticks": ""
            },
            "colorscale": [
             [
              0,
              "#0d0887"
             ],
             [
              0.1111111111111111,
              "#46039f"
             ],
             [
              0.2222222222222222,
              "#7201a8"
             ],
             [
              0.3333333333333333,
              "#9c179e"
             ],
             [
              0.4444444444444444,
              "#bd3786"
             ],
             [
              0.5555555555555556,
              "#d8576b"
             ],
             [
              0.6666666666666666,
              "#ed7953"
             ],
             [
              0.7777777777777778,
              "#fb9f3a"
             ],
             [
              0.8888888888888888,
              "#fdca26"
             ],
             [
              1,
              "#f0f921"
             ]
            ],
            "type": "histogram2d"
           }
          ],
          "histogram2dcontour": [
           {
            "colorbar": {
             "outlinewidth": 0,
             "ticks": ""
            },
            "colorscale": [
             [
              0,
              "#0d0887"
             ],
             [
              0.1111111111111111,
              "#46039f"
             ],
             [
              0.2222222222222222,
              "#7201a8"
             ],
             [
              0.3333333333333333,
              "#9c179e"
             ],
             [
              0.4444444444444444,
              "#bd3786"
             ],
             [
              0.5555555555555556,
              "#d8576b"
             ],
             [
              0.6666666666666666,
              "#ed7953"
             ],
             [
              0.7777777777777778,
              "#fb9f3a"
             ],
             [
              0.8888888888888888,
              "#fdca26"
             ],
             [
              1,
              "#f0f921"
             ]
            ],
            "type": "histogram2dcontour"
           }
          ],
          "mesh3d": [
           {
            "colorbar": {
             "outlinewidth": 0,
             "ticks": ""
            },
            "type": "mesh3d"
           }
          ],
          "parcoords": [
           {
            "line": {
             "colorbar": {
              "outlinewidth": 0,
              "ticks": ""
             }
            },
            "type": "parcoords"
           }
          ],
          "pie": [
           {
            "automargin": true,
            "type": "pie"
           }
          ],
          "scatter": [
           {
            "fillpattern": {
             "fillmode": "overlay",
             "size": 10,
             "solidity": 0.2
            },
            "type": "scatter"
           }
          ],
          "scatter3d": [
           {
            "line": {
             "colorbar": {
              "outlinewidth": 0,
              "ticks": ""
             }
            },
            "marker": {
             "colorbar": {
              "outlinewidth": 0,
              "ticks": ""
             }
            },
            "type": "scatter3d"
           }
          ],
          "scattercarpet": [
           {
            "marker": {
             "colorbar": {
              "outlinewidth": 0,
              "ticks": ""
             }
            },
            "type": "scattercarpet"
           }
          ],
          "scattergeo": [
           {
            "marker": {
             "colorbar": {
              "outlinewidth": 0,
              "ticks": ""
             }
            },
            "type": "scattergeo"
           }
          ],
          "scattergl": [
           {
            "marker": {
             "colorbar": {
              "outlinewidth": 0,
              "ticks": ""
             }
            },
            "type": "scattergl"
           }
          ],
          "scattermapbox": [
           {
            "marker": {
             "colorbar": {
              "outlinewidth": 0,
              "ticks": ""
             }
            },
            "type": "scattermapbox"
           }
          ],
          "scatterpolar": [
           {
            "marker": {
             "colorbar": {
              "outlinewidth": 0,
              "ticks": ""
             }
            },
            "type": "scatterpolar"
           }
          ],
          "scatterpolargl": [
           {
            "marker": {
             "colorbar": {
              "outlinewidth": 0,
              "ticks": ""
             }
            },
            "type": "scatterpolargl"
           }
          ],
          "scatterternary": [
           {
            "marker": {
             "colorbar": {
              "outlinewidth": 0,
              "ticks": ""
             }
            },
            "type": "scatterternary"
           }
          ],
          "surface": [
           {
            "colorbar": {
             "outlinewidth": 0,
             "ticks": ""
            },
            "colorscale": [
             [
              0,
              "#0d0887"
             ],
             [
              0.1111111111111111,
              "#46039f"
             ],
             [
              0.2222222222222222,
              "#7201a8"
             ],
             [
              0.3333333333333333,
              "#9c179e"
             ],
             [
              0.4444444444444444,
              "#bd3786"
             ],
             [
              0.5555555555555556,
              "#d8576b"
             ],
             [
              0.6666666666666666,
              "#ed7953"
             ],
             [
              0.7777777777777778,
              "#fb9f3a"
             ],
             [
              0.8888888888888888,
              "#fdca26"
             ],
             [
              1,
              "#f0f921"
             ]
            ],
            "type": "surface"
           }
          ],
          "table": [
           {
            "cells": {
             "fill": {
              "color": "#EBF0F8"
             },
             "line": {
              "color": "white"
             }
            },
            "header": {
             "fill": {
              "color": "#C8D4E3"
             },
             "line": {
              "color": "white"
             }
            },
            "type": "table"
           }
          ]
         },
         "layout": {
          "annotationdefaults": {
           "arrowcolor": "#2a3f5f",
           "arrowhead": 0,
           "arrowwidth": 1
          },
          "autotypenumbers": "strict",
          "coloraxis": {
           "colorbar": {
            "outlinewidth": 0,
            "ticks": ""
           }
          },
          "colorscale": {
           "diverging": [
            [
             0,
             "#8e0152"
            ],
            [
             0.1,
             "#c51b7d"
            ],
            [
             0.2,
             "#de77ae"
            ],
            [
             0.3,
             "#f1b6da"
            ],
            [
             0.4,
             "#fde0ef"
            ],
            [
             0.5,
             "#f7f7f7"
            ],
            [
             0.6,
             "#e6f5d0"
            ],
            [
             0.7,
             "#b8e186"
            ],
            [
             0.8,
             "#7fbc41"
            ],
            [
             0.9,
             "#4d9221"
            ],
            [
             1,
             "#276419"
            ]
           ],
           "sequential": [
            [
             0,
             "#0d0887"
            ],
            [
             0.1111111111111111,
             "#46039f"
            ],
            [
             0.2222222222222222,
             "#7201a8"
            ],
            [
             0.3333333333333333,
             "#9c179e"
            ],
            [
             0.4444444444444444,
             "#bd3786"
            ],
            [
             0.5555555555555556,
             "#d8576b"
            ],
            [
             0.6666666666666666,
             "#ed7953"
            ],
            [
             0.7777777777777778,
             "#fb9f3a"
            ],
            [
             0.8888888888888888,
             "#fdca26"
            ],
            [
             1,
             "#f0f921"
            ]
           ],
           "sequentialminus": [
            [
             0,
             "#0d0887"
            ],
            [
             0.1111111111111111,
             "#46039f"
            ],
            [
             0.2222222222222222,
             "#7201a8"
            ],
            [
             0.3333333333333333,
             "#9c179e"
            ],
            [
             0.4444444444444444,
             "#bd3786"
            ],
            [
             0.5555555555555556,
             "#d8576b"
            ],
            [
             0.6666666666666666,
             "#ed7953"
            ],
            [
             0.7777777777777778,
             "#fb9f3a"
            ],
            [
             0.8888888888888888,
             "#fdca26"
            ],
            [
             1,
             "#f0f921"
            ]
           ]
          },
          "colorway": [
           "#636efa",
           "#EF553B",
           "#00cc96",
           "#ab63fa",
           "#FFA15A",
           "#19d3f3",
           "#FF6692",
           "#B6E880",
           "#FF97FF",
           "#FECB52"
          ],
          "font": {
           "color": "#2a3f5f"
          },
          "geo": {
           "bgcolor": "white",
           "lakecolor": "white",
           "landcolor": "#E5ECF6",
           "showlakes": true,
           "showland": true,
           "subunitcolor": "white"
          },
          "hoverlabel": {
           "align": "left"
          },
          "hovermode": "closest",
          "mapbox": {
           "style": "light"
          },
          "paper_bgcolor": "white",
          "plot_bgcolor": "#E5ECF6",
          "polar": {
           "angularaxis": {
            "gridcolor": "white",
            "linecolor": "white",
            "ticks": ""
           },
           "bgcolor": "#E5ECF6",
           "radialaxis": {
            "gridcolor": "white",
            "linecolor": "white",
            "ticks": ""
           }
          },
          "scene": {
           "xaxis": {
            "backgroundcolor": "#E5ECF6",
            "gridcolor": "white",
            "gridwidth": 2,
            "linecolor": "white",
            "showbackground": true,
            "ticks": "",
            "zerolinecolor": "white"
           },
           "yaxis": {
            "backgroundcolor": "#E5ECF6",
            "gridcolor": "white",
            "gridwidth": 2,
            "linecolor": "white",
            "showbackground": true,
            "ticks": "",
            "zerolinecolor": "white"
           },
           "zaxis": {
            "backgroundcolor": "#E5ECF6",
            "gridcolor": "white",
            "gridwidth": 2,
            "linecolor": "white",
            "showbackground": true,
            "ticks": "",
            "zerolinecolor": "white"
           }
          },
          "shapedefaults": {
           "line": {
            "color": "#2a3f5f"
           }
          },
          "ternary": {
           "aaxis": {
            "gridcolor": "white",
            "linecolor": "white",
            "ticks": ""
           },
           "baxis": {
            "gridcolor": "white",
            "linecolor": "white",
            "ticks": ""
           },
           "bgcolor": "#E5ECF6",
           "caxis": {
            "gridcolor": "white",
            "linecolor": "white",
            "ticks": ""
           }
          },
          "title": {
           "x": 0.05
          },
          "xaxis": {
           "automargin": true,
           "gridcolor": "white",
           "linecolor": "white",
           "ticks": "",
           "title": {
            "standoff": 15
           },
           "zerolinecolor": "white",
           "zerolinewidth": 2
          },
          "yaxis": {
           "automargin": true,
           "gridcolor": "white",
           "linecolor": "white",
           "ticks": "",
           "title": {
            "standoff": 15
           },
           "zerolinecolor": "white",
           "zerolinewidth": 2
          }
         }
        },
        "title": {
         "text": "Epidemic incidence over time"
        },
        "xaxis": {
         "title": {
          "text": "Day"
         }
        },
        "yaxis": {
         "title": {
          "text": "Incidence"
         }
        }
       }
      }
     },
     "metadata": {},
     "output_type": "display_data"
    }
   ],
   "source": [
    "plotter = ABM_Plotter(abm)\n",
    "# Displays the new infections and positive tests, and saves the image.\n",
    "plotter.plot_curves(show_fig=True, save_img_to=\"tests/figures/simulation.jpg\")"
   ]
  },
  {
   "cell_type": "code",
   "execution_count": 8,
   "id": "f3c7f6f1-1575-4fa6-9108-5c8575ac4632",
   "metadata": {},
   "outputs": [
    {
     "ename": "ValueError",
     "evalue": "Invalid property specified for object of type plotly.graph_objs.layout.Mapbox: 'bounds'\n\nDid you mean \"domain\"?\n\n    Valid properties:\n        accesstoken\n            Sets the mapbox access token to be used for this mapbox\n            map. Alternatively, the mapbox access token can be set\n            in the configuration options under `mapboxAccessToken`.\n            Note that accessToken are only required when `style`\n            (e.g with values : basic, streets, outdoors, light,\n            dark, satellite, satellite-streets ) and/or a layout\n            layer references the Mapbox server.\n        bearing\n            Sets the bearing angle of the map in degrees counter-\n            clockwise from North (mapbox.bearing).\n        center\n            :class:`plotly.graph_objects.layout.mapbox.Center`\n            instance or dict with compatible properties\n        domain\n            :class:`plotly.graph_objects.layout.mapbox.Domain`\n            instance or dict with compatible properties\n        layers\n            A tuple of\n            :class:`plotly.graph_objects.layout.mapbox.Layer`\n            instances or dicts with compatible properties\n        layerdefaults\n            When used in a template (as\n            layout.template.layout.mapbox.layerdefaults), sets the\n            default property values to use for elements of\n            layout.mapbox.layers\n        pitch\n            Sets the pitch angle of the map (in degrees, where 0\n            means perpendicular to the surface of the map)\n            (mapbox.pitch).\n        style\n            Defines the map layers that are rendered by default\n            below the trace layers defined in `data`, which are\n            themselves by default rendered below the layers defined\n            in `layout.mapbox.layers`.  These layers can be defined\n            either explicitly as a Mapbox Style object which can\n            contain multiple layer definitions that load data from\n            any public or private Tile Map Service (TMS or XYZ) or\n            Web Map Service (WMS) or implicitly by using one of the\n            built-in style objects which use WMSes which do not\n            require any access tokens, or by using a default Mapbox\n            style or custom Mapbox style URL, both of which require\n            a Mapbox access token  Note that Mapbox access token\n            can be set in the `accesstoken` attribute or in the\n            `mapboxAccessToken` config option.  Mapbox Style\n            objects are of the form described in the Mapbox GL JS\n            documentation available at\n            https://docs.mapbox.com/mapbox-gl-js/style-spec  The\n            built-in plotly.js styles objects are: carto-\n            darkmatter, carto-positron, open-street-map, stamen-\n            terrain, stamen-toner, stamen-watercolor, white-bg  The\n            built-in Mapbox styles are: basic, streets, outdoors,\n            light, dark, satellite, satellite-streets  Mapbox style\n            URLs are of the form:\n            mapbox://mapbox.mapbox-<name>-<version>\n        uirevision\n            Controls persistence of user-driven changes in the\n            view: `center`, `zoom`, `bearing`, `pitch`. Defaults to\n            `layout.uirevision`.\n        zoom\n            Sets the zoom level of the map (mapbox.zoom).\n        \nDid you mean \"domain\"?\n\nBad property path:\nmapbox_bounds\n       ^^^^^^",
     "output_type": "error",
     "traceback": [
      "\u001b[0;31m---------------------------------------------------------------------------\u001b[0m",
      "\u001b[0;31mValueError\u001b[0m                                Traceback (most recent call last)",
      "Cell \u001b[0;32mIn[8], line 2\u001b[0m\n\u001b[1;32m      1\u001b[0m population_dataset \u001b[39m=\u001b[39m load_population_dataset()\n\u001b[0;32m----> 2\u001b[0m plotter\u001b[39m.\u001b[39;49mplot_infection_spread(population_dataset, show_fig\u001b[39m=\u001b[39;49m\u001b[39mTrue\u001b[39;49;00m)\n",
      "File \u001b[0;32m~/Documents/EPFL/MASTER/MA2/Semester project/ABM model/Covid_restriction_Github_version/abm/plotting.py:226\u001b[0m, in \u001b[0;36mABM_Plotter.plot_infection_spread\u001b[0;34m(self, population_df, save_html_to, save_gif_to, show_fig)\u001b[0m\n\u001b[1;32m    204\u001b[0m fig\u001b[39m.\u001b[39mupdate_layout(sliders\u001b[39m=\u001b[39msliders,\n\u001b[1;32m    205\u001b[0m                   updatemenus\u001b[39m=\u001b[39m[\n\u001b[1;32m    206\u001b[0m                       {\n\u001b[0;32m   (...)\u001b[0m\n\u001b[1;32m    222\u001b[0m                           \u001b[39m\"\u001b[39m\u001b[39my\u001b[39m\u001b[39m\"\u001b[39m: \u001b[39m0\u001b[39m,\n\u001b[1;32m    223\u001b[0m                       }])\n\u001b[1;32m    225\u001b[0m \u001b[39m# Mapbox layout update\u001b[39;00m\n\u001b[0;32m--> 226\u001b[0m fig\u001b[39m.\u001b[39;49mupdate_layout(\n\u001b[1;32m    227\u001b[0m     mapbox_style\u001b[39m=\u001b[39;49m\u001b[39m\"\u001b[39;49m\u001b[39mopen-street-map\u001b[39;49m\u001b[39m\"\u001b[39;49m,\n\u001b[1;32m    228\u001b[0m     mapbox_bounds\u001b[39m=\u001b[39;49m{\u001b[39m\"\u001b[39;49m\u001b[39mwest\u001b[39;49m\u001b[39m\"\u001b[39;49m: \u001b[39m6.1\u001b[39;49m, \u001b[39m\"\u001b[39;49m\u001b[39meast\u001b[39;49m\u001b[39m\"\u001b[39;49m: \u001b[39m7.2\u001b[39;49m, \u001b[39m\"\u001b[39;49m\u001b[39msouth\u001b[39;49m\u001b[39m\"\u001b[39;49m: \u001b[39m46.2\u001b[39;49m, \u001b[39m\"\u001b[39;49m\u001b[39mnorth\u001b[39;49m\u001b[39m\"\u001b[39;49m: \u001b[39m46.95\u001b[39;49m}\n\u001b[1;32m    229\u001b[0m )\n\u001b[1;32m    230\u001b[0m \u001b[39m# Curve layout update\u001b[39;00m\n\u001b[1;32m    231\u001b[0m fig\u001b[39m.\u001b[39mupdate_xaxes(title\u001b[39m=\u001b[39m\u001b[39m\"\u001b[39m\u001b[39mDays\u001b[39m\u001b[39m\"\u001b[39m)\n",
      "File \u001b[0;32m~/opt/anaconda3/envs/abm/lib/python3.10/site-packages/plotly/graph_objs/_figure.py:740\u001b[0m, in \u001b[0;36mFigure.update_layout\u001b[0;34m(self, dict1, overwrite, **kwargs)\u001b[0m\n\u001b[1;32m    714\u001b[0m \u001b[39mdef\u001b[39;00m \u001b[39mupdate_layout\u001b[39m(\u001b[39mself\u001b[39m, dict1\u001b[39m=\u001b[39m\u001b[39mNone\u001b[39;00m, overwrite\u001b[39m=\u001b[39m\u001b[39mFalse\u001b[39;00m, \u001b[39m*\u001b[39m\u001b[39m*\u001b[39mkwargs) \u001b[39m-\u001b[39m\u001b[39m>\u001b[39m \u001b[39m\"\u001b[39m\u001b[39mFigure\u001b[39m\u001b[39m\"\u001b[39m:\n\u001b[1;32m    715\u001b[0m     \u001b[39m\"\"\"\u001b[39;00m\n\u001b[1;32m    716\u001b[0m \n\u001b[1;32m    717\u001b[0m \u001b[39m    Update the properties of the figure's layout with a dict and/or with\u001b[39;00m\n\u001b[0;32m   (...)\u001b[0m\n\u001b[1;32m    738\u001b[0m \n\u001b[1;32m    739\u001b[0m \u001b[39m    \"\"\"\u001b[39;00m\n\u001b[0;32m--> 740\u001b[0m     \u001b[39mreturn\u001b[39;00m \u001b[39msuper\u001b[39;49m(Figure, \u001b[39mself\u001b[39;49m)\u001b[39m.\u001b[39;49mupdate_layout(dict1, overwrite, \u001b[39m*\u001b[39;49m\u001b[39m*\u001b[39;49mkwargs)\n",
      "File \u001b[0;32m~/opt/anaconda3/envs/abm/lib/python3.10/site-packages/plotly/basedatatypes.py:1401\u001b[0m, in \u001b[0;36mBaseFigure.update_layout\u001b[0;34m(self, dict1, overwrite, **kwargs)\u001b[0m\n\u001b[1;32m   1377\u001b[0m \u001b[39mdef\u001b[39;00m \u001b[39mupdate_layout\u001b[39m(\u001b[39mself\u001b[39m, dict1\u001b[39m=\u001b[39m\u001b[39mNone\u001b[39;00m, overwrite\u001b[39m=\u001b[39m\u001b[39mFalse\u001b[39;00m, \u001b[39m*\u001b[39m\u001b[39m*\u001b[39mkwargs):\n\u001b[1;32m   1378\u001b[0m     \u001b[39m\"\"\"\u001b[39;00m\n\u001b[1;32m   1379\u001b[0m \u001b[39m    Update the properties of the figure's layout with a dict and/or with\u001b[39;00m\n\u001b[1;32m   1380\u001b[0m \u001b[39m    keyword arguments.\u001b[39;00m\n\u001b[0;32m   (...)\u001b[0m\n\u001b[1;32m   1399\u001b[0m \u001b[39m        The Figure object that the update_layout method was called on\u001b[39;00m\n\u001b[1;32m   1400\u001b[0m \u001b[39m    \"\"\"\u001b[39;00m\n\u001b[0;32m-> 1401\u001b[0m     \u001b[39mself\u001b[39;49m\u001b[39m.\u001b[39;49mlayout\u001b[39m.\u001b[39;49mupdate(dict1, overwrite\u001b[39m=\u001b[39;49moverwrite, \u001b[39m*\u001b[39;49m\u001b[39m*\u001b[39;49mkwargs)\n\u001b[1;32m   1402\u001b[0m     \u001b[39mreturn\u001b[39;00m \u001b[39mself\u001b[39m\n",
      "File \u001b[0;32m~/opt/anaconda3/envs/abm/lib/python3.10/site-packages/plotly/basedatatypes.py:5122\u001b[0m, in \u001b[0;36mBasePlotlyType.update\u001b[0;34m(self, dict1, overwrite, **kwargs)\u001b[0m\n\u001b[1;32m   5120\u001b[0m     \u001b[39mwith\u001b[39;00m \u001b[39mself\u001b[39m\u001b[39m.\u001b[39mfigure\u001b[39m.\u001b[39mbatch_update():\n\u001b[1;32m   5121\u001b[0m         BaseFigure\u001b[39m.\u001b[39m_perform_update(\u001b[39mself\u001b[39m, dict1, overwrite\u001b[39m=\u001b[39moverwrite)\n\u001b[0;32m-> 5122\u001b[0m         BaseFigure\u001b[39m.\u001b[39;49m_perform_update(\u001b[39mself\u001b[39;49m, kwargs, overwrite\u001b[39m=\u001b[39;49moverwrite)\n\u001b[1;32m   5123\u001b[0m \u001b[39melse\u001b[39;00m:\n\u001b[1;32m   5124\u001b[0m     BaseFigure\u001b[39m.\u001b[39m_perform_update(\u001b[39mself\u001b[39m, dict1, overwrite\u001b[39m=\u001b[39moverwrite)\n",
      "File \u001b[0;32m~/opt/anaconda3/envs/abm/lib/python3.10/site-packages/plotly/basedatatypes.py:3885\u001b[0m, in \u001b[0;36mBaseFigure._perform_update\u001b[0;34m(plotly_obj, update_obj, overwrite)\u001b[0m\n\u001b[1;32m   3881\u001b[0m                 \u001b[39mcontinue\u001b[39;00m\n\u001b[1;32m   3882\u001b[0m         \u001b[39m# If no match, raise the error, which should already\u001b[39;00m\n\u001b[1;32m   3883\u001b[0m         \u001b[39m# contain the _raise_on_invalid_property_error\u001b[39;00m\n\u001b[1;32m   3884\u001b[0m         \u001b[39m# generated message\u001b[39;00m\n\u001b[0;32m-> 3885\u001b[0m         \u001b[39mraise\u001b[39;00m err\n\u001b[1;32m   3887\u001b[0m \u001b[39m# Convert update_obj to dict\u001b[39;00m\n\u001b[1;32m   3888\u001b[0m \u001b[39m# --------------------------\u001b[39;00m\n\u001b[1;32m   3889\u001b[0m \u001b[39mif\u001b[39;00m \u001b[39misinstance\u001b[39m(update_obj, BasePlotlyType):\n",
      "\u001b[0;31mValueError\u001b[0m: Invalid property specified for object of type plotly.graph_objs.layout.Mapbox: 'bounds'\n\nDid you mean \"domain\"?\n\n    Valid properties:\n        accesstoken\n            Sets the mapbox access token to be used for this mapbox\n            map. Alternatively, the mapbox access token can be set\n            in the configuration options under `mapboxAccessToken`.\n            Note that accessToken are only required when `style`\n            (e.g with values : basic, streets, outdoors, light,\n            dark, satellite, satellite-streets ) and/or a layout\n            layer references the Mapbox server.\n        bearing\n            Sets the bearing angle of the map in degrees counter-\n            clockwise from North (mapbox.bearing).\n        center\n            :class:`plotly.graph_objects.layout.mapbox.Center`\n            instance or dict with compatible properties\n        domain\n            :class:`plotly.graph_objects.layout.mapbox.Domain`\n            instance or dict with compatible properties\n        layers\n            A tuple of\n            :class:`plotly.graph_objects.layout.mapbox.Layer`\n            instances or dicts with compatible properties\n        layerdefaults\n            When used in a template (as\n            layout.template.layout.mapbox.layerdefaults), sets the\n            default property values to use for elements of\n            layout.mapbox.layers\n        pitch\n            Sets the pitch angle of the map (in degrees, where 0\n            means perpendicular to the surface of the map)\n            (mapbox.pitch).\n        style\n            Defines the map layers that are rendered by default\n            below the trace layers defined in `data`, which are\n            themselves by default rendered below the layers defined\n            in `layout.mapbox.layers`.  These layers can be defined\n            either explicitly as a Mapbox Style object which can\n            contain multiple layer definitions that load data from\n            any public or private Tile Map Service (TMS or XYZ) or\n            Web Map Service (WMS) or implicitly by using one of the\n            built-in style objects which use WMSes which do not\n            require any access tokens, or by using a default Mapbox\n            style or custom Mapbox style URL, both of which require\n            a Mapbox access token  Note that Mapbox access token\n            can be set in the `accesstoken` attribute or in the\n            `mapboxAccessToken` config option.  Mapbox Style\n            objects are of the form described in the Mapbox GL JS\n            documentation available at\n            https://docs.mapbox.com/mapbox-gl-js/style-spec  The\n            built-in plotly.js styles objects are: carto-\n            darkmatter, carto-positron, open-street-map, stamen-\n            terrain, stamen-toner, stamen-watercolor, white-bg  The\n            built-in Mapbox styles are: basic, streets, outdoors,\n            light, dark, satellite, satellite-streets  Mapbox style\n            URLs are of the form:\n            mapbox://mapbox.mapbox-<name>-<version>\n        uirevision\n            Controls persistence of user-driven changes in the\n            view: `center`, `zoom`, `bearing`, `pitch`. Defaults to\n            `layout.uirevision`.\n        zoom\n            Sets the zoom level of the map (mapbox.zoom).\n        \nDid you mean \"domain\"?\n\nBad property path:\nmapbox_bounds\n       ^^^^^^"
     ]
    }
   ],
   "source": [
    "population_dataset = load_population_dataset()\n",
    "plotter.plot_infection_spread(population_dataset, show_fig=True)"
   ]
  }
 ],
 "metadata": {
  "kernelspec": {
   "display_name": "Python 3 (ipykernel)",
   "language": "python",
   "name": "python3"
  },
  "language_info": {
   "codemirror_mode": {
    "name": "ipython",
    "version": 3
   },
   "file_extension": ".py",
   "mimetype": "text/x-python",
   "name": "python",
   "nbconvert_exporter": "python",
   "pygments_lexer": "ipython3",
   "version": "3.10.9"
  }
 },
 "nbformat": 4,
 "nbformat_minor": 5
}
